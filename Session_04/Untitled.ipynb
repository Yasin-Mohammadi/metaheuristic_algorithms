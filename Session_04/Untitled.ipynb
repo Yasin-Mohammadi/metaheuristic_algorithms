{
 "cells": [
  {
   "cell_type": "code",
   "execution_count": 26,
   "id": "c82b80c0-5651-4917-9750-109003026ff4",
   "metadata": {},
   "outputs": [],
   "source": [
    "import numpy as np\n",
    "\n",
    "# Function to optimize\n",
    "def objective_function(x):\n",
    "    return - (x - 3)**2 + 9  # Peak at x = 3"
   ]
  },
  {
   "cell_type": "code",
   "execution_count": 33,
   "id": "e79ffa1a-3f37-4265-93b3-ee04ed221b0f",
   "metadata": {},
   "outputs": [],
   "source": [
    "# Bee Algorithm Parameters\n",
    "num_bees = 5  # Total bees (scouts + workers)\n",
    "num_iterations = 10  # Number of iterations\n",
    "search_range = (-5, 10)  # Search space for x"
   ]
  },
  {
   "cell_type": "code",
   "execution_count": 34,
   "id": "453db329-ba6b-4cc8-b7f6-8f6f4d75b7ea",
   "metadata": {},
   "outputs": [],
   "source": [
    "# Step 1: Initialize Bees (random x values)\n",
    "bees = np.random.uniform(search_range[0], search_range[1], num_bees)"
   ]
  },
  {
   "cell_type": "code",
   "execution_count": 35,
   "id": "d5a69808-1be4-498a-a965-2ba920fbba07",
   "metadata": {},
   "outputs": [
    {
     "data": {
      "text/plain": [
       "array([ 2.21837208,  8.32923479, -3.3062449 , -4.39132976,  9.45548318])"
      ]
     },
     "execution_count": 35,
     "metadata": {},
     "output_type": "execute_result"
    }
   ],
   "source": [
    "bees"
   ]
  },
  {
   "cell_type": "code",
   "execution_count": 36,
   "id": "6afe384a-526f-43b4-be94-61d1b1854b4d",
   "metadata": {},
   "outputs": [],
   "source": [
    "# Step 2: Evaluate nectar (function values)\n",
    "nectar = np.array([objective_function(x) for x in bees])"
   ]
  },
  {
   "cell_type": "code",
   "execution_count": 37,
   "id": "300a6efc-040c-4c39-b1f8-2c3067500043",
   "metadata": {},
   "outputs": [
    {
     "data": {
      "text/plain": [
       "array([  8.38905779, -19.40074348, -30.76872477, -45.63175565,\n",
       "       -32.67326313])"
      ]
     },
     "execution_count": 37,
     "metadata": {},
     "output_type": "execute_result"
    }
   ],
   "source": [
    "nectar"
   ]
  },
  {
   "cell_type": "code",
   "execution_count": 38,
   "id": "9284625a-681b-4578-bc89-a90bbe9f8b18",
   "metadata": {},
   "outputs": [],
   "source": [
    "# Step 3: Select the best bees\n",
    "best_bee_idx = np.argmax(nectar)\n",
    "best_bee = bees[best_bee_idx]"
   ]
  },
  {
   "cell_type": "code",
   "execution_count": 39,
   "id": "f1c27cf9-d5ca-453d-b380-9728cb60993c",
   "metadata": {},
   "outputs": [
    {
     "data": {
      "text/plain": [
       "np.float64(2.218372075634953)"
      ]
     },
     "execution_count": 39,
     "metadata": {},
     "output_type": "execute_result"
    }
   ],
   "source": [
    "best_bee"
   ]
  },
  {
   "cell_type": "code",
   "execution_count": 40,
   "id": "5ef0ade6-d1c7-497b-b4ca-be8b101aaeaf",
   "metadata": {},
   "outputs": [],
   "source": [
    "# Step 4: Local Search (Exploitation)\n",
    "new_local_solutions = np.random.uniform(best_bee - 0.5, best_bee + 0.5, num_bees - 1)"
   ]
  },
  {
   "cell_type": "code",
   "execution_count": 41,
   "id": "0f971a6d-2502-4663-ac1a-258b33e632b8",
   "metadata": {},
   "outputs": [
    {
     "data": {
      "text/plain": [
       "array([1.98524543, 2.12249387, 2.17846383, 2.25577816])"
      ]
     },
     "execution_count": 41,
     "metadata": {},
     "output_type": "execute_result"
    }
   ],
   "source": [
    "new_local_solutions"
   ]
  },
  {
   "cell_type": "code",
   "execution_count": 42,
   "id": "fbcc7434-c666-43b1-952c-0d08bea8465a",
   "metadata": {},
   "outputs": [],
   "source": [
    "# Step 5: Global Search (Exploration)\n",
    "new_scout_solutions = np.random.uniform(search_range[0], search_range[1], 1)"
   ]
  },
  {
   "cell_type": "code",
   "execution_count": 43,
   "id": "b0183c9f-61fd-4b2a-b9da-9d24012b91d4",
   "metadata": {},
   "outputs": [
    {
     "data": {
      "text/plain": [
       "array([-2.93508068])"
      ]
     },
     "execution_count": 43,
     "metadata": {},
     "output_type": "execute_result"
    }
   ],
   "source": [
    "new_scout_solutions"
   ]
  },
  {
   "cell_type": "code",
   "execution_count": 44,
   "id": "40f75789-02d4-4851-8597-350b31fa33c4",
   "metadata": {},
   "outputs": [],
   "source": [
    "# Combine local and global search\n",
    "bees = np.concatenate(([best_bee], new_local_solutions, new_scout_solutions))"
   ]
  },
  {
   "cell_type": "code",
   "execution_count": 45,
   "id": "8626ec32-4031-40dd-b914-99a96f6bafe2",
   "metadata": {},
   "outputs": [
    {
     "data": {
      "text/plain": [
       "array([ 2.21837208,  1.98524543,  2.12249387,  2.17846383,  2.25577816,\n",
       "       -2.93508068])"
      ]
     },
     "execution_count": 45,
     "metadata": {},
     "output_type": "execute_result"
    }
   ],
   "source": [
    "bees"
   ]
  },
  {
   "cell_type": "code",
   "execution_count": 46,
   "id": "389e0901-40bb-45df-adc7-b93f10720e79",
   "metadata": {},
   "outputs": [],
   "source": [
    "for iteration in range(num_iterations):\n",
    "    # Step 2: Evaluate nectar (function values)\n",
    "    nectar = np.array([objective_function(x) for x in bees])\n",
    "    \n",
    "    # Step 3: Select the best bees\n",
    "    best_bee_idx = np.argmax(nectar)\n",
    "    best_bee = bees[best_bee_idx]\n",
    "    \n",
    "    # Step 4: Local Search (Exploitation)\n",
    "    new_local_solutions = np.random.uniform(best_bee - 0.5, best_bee + 0.5, num_bees - 1)\n",
    "    \n",
    "    # Step 5: Global Search (Exploration)\n",
    "    new_scout_solutions = np.random.uniform(search_range[0], search_range[1], 1)\n",
    "    \n",
    "    # Combine local and global search\n",
    "    bees = np.concatenate(([best_bee], new_local_solutions, new_scout_solutions))"
   ]
  },
  {
   "cell_type": "code",
   "execution_count": 47,
   "id": "6e8b00f6-3440-4c9a-98bc-0e390c7e47ab",
   "metadata": {},
   "outputs": [
    {
     "name": "stdout",
     "output_type": "stream",
     "text": [
      "Best x found: 3.0008\n",
      "Maximum function value: 9.0000\n"
     ]
    }
   ],
   "source": [
    "# Final best solution\n",
    "best_x = best_bee\n",
    "best_value = objective_function(best_x)\n",
    "\n",
    "print(f\"Best x found: {best_x:.4f}\")\n",
    "print(f\"Maximum function value: {best_value:.4f}\")"
   ]
  },
  {
   "cell_type": "markdown",
   "id": "c755e7c9-45fb-4121-9dc8-10239171cbe1",
   "metadata": {},
   "source": [
    "# Find the shortest path"
   ]
  },
  {
   "cell_type": "code",
   "execution_count": 48,
   "id": "1ea7ad13-ed95-4e6b-8b2f-54ed98bc0875",
   "metadata": {},
   "outputs": [],
   "source": [
    "import itertools\n",
    "import numpy as np\n",
    "\n",
    "# Define the distances between locations\n",
    "distances = {\n",
    "    ('A', 'B'): 2, ('A', 'C'): 5, ('A', 'D'): 7,\n",
    "    ('B', 'C'): 3, ('B', 'D'): 6,\n",
    "    ('C', 'D'): 4\n",
    "}"
   ]
  },
  {
   "cell_type": "code",
   "execution_count": 49,
   "id": "8b21d28d-59d8-4ddd-a5c2-3f04d33b222d",
   "metadata": {},
   "outputs": [
    {
     "data": {
      "text/plain": [
       "{('A', 'B'): 2,\n",
       " ('A', 'C'): 5,\n",
       " ('A', 'D'): 7,\n",
       " ('B', 'C'): 3,\n",
       " ('B', 'D'): 6,\n",
       " ('C', 'D'): 4}"
      ]
     },
     "execution_count": 49,
     "metadata": {},
     "output_type": "execute_result"
    }
   ],
   "source": [
    "distances"
   ]
  },
  {
   "cell_type": "code",
   "execution_count": 51,
   "id": "232163e0-a9c7-4122-b4d9-d74aab565a8d",
   "metadata": {},
   "outputs": [],
   "source": [
    "# Generate all possible paths (permutations)\n",
    "locations = ['A', 'B', 'C', 'D']\n",
    "all_routes = list(itertools.permutations(locations))"
   ]
  },
  {
   "cell_type": "code",
   "execution_count": 52,
   "id": "21e300e7-6652-4041-af03-0542700dfc65",
   "metadata": {},
   "outputs": [],
   "source": [
    "# Function to calculate total distance of a given route\n",
    "def route_distance(route):\n",
    "    total_distance = 0\n",
    "    for i in range(len(route) - 1):\n",
    "        pair = tuple(sorted([route[i], route[i + 1]]))  # Ensure correct lookup\n",
    "        total_distance += distances[pair]\n",
    "    return total_distance"
   ]
  },
  {
   "cell_type": "code",
   "execution_count": 55,
   "id": "18b009cf-bd48-4267-be73-09496cdcd4d4",
   "metadata": {},
   "outputs": [
    {
     "data": {
      "text/plain": [
       "9"
      ]
     },
     "execution_count": 55,
     "metadata": {},
     "output_type": "execute_result"
    }
   ],
   "source": [
    "route_distance(locations)"
   ]
  },
  {
   "cell_type": "code",
   "execution_count": 56,
   "id": "9a38f01e-4d37-4243-a1a2-d991d8b30d90",
   "metadata": {},
   "outputs": [
    {
     "data": {
      "text/plain": [
       "15"
      ]
     },
     "execution_count": 56,
     "metadata": {},
     "output_type": "execute_result"
    }
   ],
   "source": [
    "route_distance(['B', 'C', 'A', 'D'])"
   ]
  },
  {
   "cell_type": "code",
   "execution_count": 57,
   "id": "1e3578af-f8fb-443d-9c9e-23d1fdc13357",
   "metadata": {},
   "outputs": [],
   "source": [
    "# Bee Algorithm Parameters\n",
    "num_bees = 5\n",
    "num_iterations = 10"
   ]
  },
  {
   "cell_type": "code",
   "execution_count": 63,
   "id": "70b665a3-96be-4b34-ac44-64e58fccb991",
   "metadata": {},
   "outputs": [],
   "source": [
    "# Step 1: Initialize bees with random routes\n",
    "bees = [list(np.random.permutation(locations)) for _ in range(num_bees)]"
   ]
  },
  {
   "cell_type": "code",
   "execution_count": 64,
   "id": "23cc3a78-8146-449f-b8b3-e01ba899603b",
   "metadata": {},
   "outputs": [
    {
     "data": {
      "text/plain": [
       "[[np.str_('D'), np.str_('A'), np.str_('C'), np.str_('B')],\n",
       " [np.str_('B'), np.str_('A'), np.str_('C'), np.str_('D')],\n",
       " [np.str_('C'), np.str_('B'), np.str_('D'), np.str_('A')],\n",
       " [np.str_('B'), np.str_('D'), np.str_('C'), np.str_('A')],\n",
       " [np.str_('B'), np.str_('D'), np.str_('A'), np.str_('C')]]"
      ]
     },
     "execution_count": 64,
     "metadata": {},
     "output_type": "execute_result"
    }
   ],
   "source": [
    "bees"
   ]
  },
  {
   "cell_type": "code",
   "execution_count": 65,
   "id": "838141f4-a9ce-4902-af83-b24413897a6c",
   "metadata": {},
   "outputs": [],
   "source": [
    "# Step 2: Evaluate nectar (total route distance)\n",
    "nectar = np.array([route_distance(route) for route in bees])"
   ]
  },
  {
   "cell_type": "code",
   "execution_count": 66,
   "id": "11ae5f3c-c0ff-4549-a503-e9fe2cf3fb8c",
   "metadata": {},
   "outputs": [
    {
     "data": {
      "text/plain": [
       "array([15, 11, 16, 15, 18])"
      ]
     },
     "execution_count": 66,
     "metadata": {},
     "output_type": "execute_result"
    }
   ],
   "source": [
    "nectar"
   ]
  },
  {
   "cell_type": "code",
   "execution_count": 67,
   "id": "6c25e1fe-e1e9-4133-918c-d7b81e7aebab",
   "metadata": {},
   "outputs": [],
   "source": [
    "# Step 3: Select the best bee (shortest route)\n",
    "best_bee_idx = np.argmin(nectar)\n",
    "best_bee = bees[best_bee_idx]"
   ]
  },
  {
   "cell_type": "code",
   "execution_count": 69,
   "id": "73e3f26c-59ee-4364-981c-e89359c9196a",
   "metadata": {},
   "outputs": [
    {
     "data": {
      "text/plain": [
       "[np.str_('B'), np.str_('A'), np.str_('C'), np.str_('D')]"
      ]
     },
     "execution_count": 69,
     "metadata": {},
     "output_type": "execute_result"
    }
   ],
   "source": [
    "best_bee"
   ]
  },
  {
   "cell_type": "code",
   "execution_count": 79,
   "id": "f6209aba-d378-42b4-91f3-517ee7ebcbc5",
   "metadata": {},
   "outputs": [],
   "source": [
    "# Step 4: Local Search (swap two cities in best route)\n",
    "new_local_solutions = []\n",
    "for _ in range(8):\n",
    "    new_route = best_bee[:]\n",
    "    i, j = np.random.choice(len(new_route), 2, replace=False)\n",
    "    new_route[i], new_route[j] = new_route[j], new_route[i]\n",
    "    new_local_solutions.append(new_route)"
   ]
  },
  {
   "cell_type": "code",
   "execution_count": 80,
   "id": "608e9cf8-3c22-4b7c-9a2e-bdaf05e9f217",
   "metadata": {},
   "outputs": [
    {
     "data": {
      "text/plain": [
       "[[np.str_('A'), np.str_('B'), np.str_('C'), np.str_('D')],\n",
       " [np.str_('B'), np.str_('D'), np.str_('C'), np.str_('A')],\n",
       " [np.str_('B'), np.str_('A'), np.str_('D'), np.str_('C')],\n",
       " [np.str_('C'), np.str_('A'), np.str_('B'), np.str_('D')],\n",
       " [np.str_('A'), np.str_('B'), np.str_('C'), np.str_('D')],\n",
       " [np.str_('B'), np.str_('D'), np.str_('C'), np.str_('A')],\n",
       " [np.str_('C'), np.str_('A'), np.str_('B'), np.str_('D')],\n",
       " [np.str_('B'), np.str_('A'), np.str_('D'), np.str_('C')]]"
      ]
     },
     "execution_count": 80,
     "metadata": {},
     "output_type": "execute_result"
    }
   ],
   "source": [
    "new_local_solutions"
   ]
  },
  {
   "cell_type": "code",
   "execution_count": 77,
   "id": "10a519fe-87d7-4e19-bdd1-5541078940a8",
   "metadata": {},
   "outputs": [],
   "source": [
    "# Step 5: Global Search (random new routes)\n",
    "new_scout_solutions = [list(np.random.permutation(locations)) for _ in range(3)]"
   ]
  },
  {
   "cell_type": "code",
   "execution_count": 78,
   "id": "b903f584-9010-42b0-8fee-845dedea59b6",
   "metadata": {},
   "outputs": [
    {
     "data": {
      "text/plain": [
       "[[np.str_('B'), np.str_('D'), np.str_('A'), np.str_('C')],\n",
       " [np.str_('A'), np.str_('D'), np.str_('C'), np.str_('B')],\n",
       " [np.str_('D'), np.str_('B'), np.str_('A'), np.str_('C')]]"
      ]
     },
     "execution_count": 78,
     "metadata": {},
     "output_type": "execute_result"
    }
   ],
   "source": [
    "new_scout_solutions"
   ]
  },
  {
   "cell_type": "code",
   "execution_count": 81,
   "id": "ec3ae6f6-0a11-450a-b1df-fbcd4991c6c1",
   "metadata": {},
   "outputs": [],
   "source": [
    "# Combine local and global search\n",
    "bees = [best_bee] + new_local_solutions + new_scout_solutions"
   ]
  },
  {
   "cell_type": "code",
   "execution_count": 82,
   "id": "7f674027-dacb-4a12-80fe-4ca0ec7eaf53",
   "metadata": {},
   "outputs": [],
   "source": [
    "\n",
    "for iteration in range(num_iterations):\n",
    "    # Step 2: Evaluate nectar (total route distance)\n",
    "    nectar = np.array([route_distance(route) for route in bees])\n",
    "    \n",
    "    # Step 3: Select the best bee (shortest route)\n",
    "    best_bee_idx = np.argmin(nectar)\n",
    "    best_bee = bees[best_bee_idx]\n",
    "    \n",
    "    # Step 4: Local Search (swap two cities in best route)\n",
    "    new_local_solutions = []\n",
    "    for _ in range(num_bees - 1):\n",
    "        new_route = best_bee[:]\n",
    "        i, j = np.random.choice(len(new_route), 2, replace=False)\n",
    "        new_route[i], new_route[j] = new_route[j], new_route[i]\n",
    "        new_local_solutions.append(new_route)\n",
    "\n",
    "    # Step 5: Global Search (random new routes)\n",
    "    new_scout_solutions = [list(np.random.permutation(locations)) for _ in range(1)]\n",
    "    \n",
    "    # Combine local and global search\n",
    "    bees = [best_bee] + new_local_solutions + new_scout_solutions"
   ]
  },
  {
   "cell_type": "code",
   "execution_count": 83,
   "id": "ad1324a6-929f-4487-acd3-4ca8080f81bb",
   "metadata": {},
   "outputs": [
    {
     "name": "stdout",
     "output_type": "stream",
     "text": [
      "Best route found: [np.str_('A'), np.str_('B'), np.str_('C'), np.str_('D')]\n",
      "Shortest distance: 9\n"
     ]
    }
   ],
   "source": [
    "# Final best solution\n",
    "best_route = best_bee\n",
    "best_distance = route_distance(best_route)\n",
    "\n",
    "print(f\"Best route found: {best_route}\")\n",
    "print(f\"Shortest distance: {best_distance}\")"
   ]
  },
  {
   "cell_type": "markdown",
   "id": "e7ef421d-ae53-495f-986a-cd056e95736f",
   "metadata": {},
   "source": [
    "# location alocation\n",
    "\n",
    "10 house\n",
    "2 schole"
   ]
  },
  {
   "cell_type": "markdown",
   "id": "1eab4b47-178f-4c5e-b021-f604e30dc629",
   "metadata": {},
   "source": [
    "## Initailze the bees"
   ]
  },
  {
   "cell_type": "code",
   "execution_count": null,
   "id": "7caa43b3-e718-44f4-8848-b5e5aabea99e",
   "metadata": {},
   "outputs": [],
   "source": []
  }
 ],
 "metadata": {
  "kernelspec": {
   "display_name": "Python 3 (ipykernel)",
   "language": "python",
   "name": "python3"
  },
  "language_info": {
   "codemirror_mode": {
    "name": "ipython",
    "version": 3
   },
   "file_extension": ".py",
   "mimetype": "text/x-python",
   "name": "python",
   "nbconvert_exporter": "python",
   "pygments_lexer": "ipython3",
   "version": "3.12.0"
  }
 },
 "nbformat": 4,
 "nbformat_minor": 5
}
