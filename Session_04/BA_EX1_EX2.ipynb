{
 "cells": [
  {
   "cell_type": "code",
   "execution_count": 1,
   "id": "8f6a6355-1835-4266-af8b-1a70b873ab78",
   "metadata": {},
   "outputs": [
    {
     "name": "stdout",
     "output_type": "stream",
     "text": [
      "Best x found: 2.9811\n",
      "Maximum function value: 8.9996\n"
     ]
    }
   ],
   "source": [
    "import numpy as np\n",
    "\n",
    "# Function to optimize\n",
    "def objective_function(x):\n",
    "    return - (x - 3)**2 + 9  # Peak at x = 3\n",
    "\n",
    "# Bee Algorithm Parameters\n",
    "num_bees = 5  # Total bees (scouts + workers)\n",
    "num_iterations = 10  # Number of iterations\n",
    "search_range = (-5, 10)  # Search space for x\n",
    "\n",
    "# Step 1: Initialize Bees (random x values)\n",
    "bees = np.random.uniform(search_range[0], search_range[1], num_bees)\n",
    "\n",
    "for iteration in range(num_iterations):\n",
    "    # Step 2: Evaluate nectar (function values)\n",
    "    nectar = np.array([objective_function(x) for x in bees])\n",
    "    \n",
    "    # Step 3: Select the best bees\n",
    "    best_bee_idx = np.argmax(nectar)\n",
    "    best_bee = bees[best_bee_idx]\n",
    "    \n",
    "    # Step 4: Local Search (Exploitation)\n",
    "    new_local_solutions = np.random.uniform(best_bee - 0.5, best_bee + 0.5, num_bees - 1)\n",
    "    \n",
    "    # Step 5: Global Search (Exploration)\n",
    "    new_scout_solutions = np.random.uniform(search_range[0], search_range[1], 1)\n",
    "    \n",
    "    # Combine local and global search\n",
    "    bees = np.concatenate(([best_bee], new_local_solutions, new_scout_solutions))\n",
    "\n",
    "# Final best solution\n",
    "best_x = best_bee\n",
    "best_value = objective_function(best_x)\n",
    "\n",
    "print(f\"Best x found: {best_x:.4f}\")\n",
    "print(f\"Maximum function value: {best_value:.4f}\")\n"
   ]
  },
  {
   "cell_type": "code",
   "execution_count": 2,
   "id": "1069c663-50e2-458e-8a2d-f56bf1ead85f",
   "metadata": {},
   "outputs": [
    {
     "name": "stdout",
     "output_type": "stream",
     "text": [
      "Best route found: ['D', 'C', 'B', 'A']\n",
      "Shortest distance: 9\n"
     ]
    }
   ],
   "source": [
    "import itertools\n",
    "import numpy as np\n",
    "\n",
    "# Define the distances between locations\n",
    "distances = {\n",
    "    ('A', 'B'): 2, ('A', 'C'): 5, ('A', 'D'): 7,\n",
    "    ('B', 'C'): 3, ('B', 'D'): 6,\n",
    "    ('C', 'D'): 4\n",
    "}\n",
    "\n",
    "# Generate all possible paths (permutations)\n",
    "locations = ['A', 'B', 'C', 'D']\n",
    "all_routes = list(itertools.permutations(locations))\n",
    "\n",
    "# Function to calculate total distance of a given route\n",
    "def route_distance(route):\n",
    "    total_distance = 0\n",
    "    for i in range(len(route) - 1):\n",
    "        pair = tuple(sorted([route[i], route[i + 1]]))  # Ensure correct lookup\n",
    "        total_distance += distances[pair]\n",
    "    return total_distance\n",
    "\n",
    "# Bee Algorithm Parameters\n",
    "num_bees = 5\n",
    "num_iterations = 10\n",
    "\n",
    "# Step 1: Initialize bees with random routes\n",
    "bees = [list(np.random.permutation(locations)) for _ in range(num_bees)]\n",
    "\n",
    "for iteration in range(num_iterations):\n",
    "    # Step 2: Evaluate nectar (total route distance)\n",
    "    nectar = np.array([route_distance(route) for route in bees])\n",
    "    \n",
    "    # Step 3: Select the best bee (shortest route)\n",
    "    best_bee_idx = np.argmin(nectar)\n",
    "    best_bee = bees[best_bee_idx]\n",
    "    \n",
    "    # Step 4: Local Search (swap two cities in best route)\n",
    "    new_local_solutions = []\n",
    "    for _ in range(num_bees - 1):\n",
    "        new_route = best_bee[:]\n",
    "        i, j = np.random.choice(len(new_route), 2, replace=False)\n",
    "        new_route[i], new_route[j] = new_route[j], new_route[i]\n",
    "        new_local_solutions.append(new_route)\n",
    "\n",
    "    # Step 5: Global Search (random new routes)\n",
    "    new_scout_solutions = [list(np.random.permutation(locations)) for _ in range(1)]\n",
    "    \n",
    "    # Combine local and global search\n",
    "    bees = [best_bee] + new_local_solutions + new_scout_solutions\n",
    "\n",
    "# Final best solution\n",
    "best_route = best_bee\n",
    "best_distance = route_distance(best_route)\n",
    "\n",
    "print(f\"Best route found: {best_route}\")\n",
    "print(f\"Shortest distance: {best_distance}\")\n"
   ]
  },
  {
   "cell_type": "code",
   "execution_count": null,
   "id": "e3240ee3-28e7-4e52-8a38-7ae35cdcc991",
   "metadata": {},
   "outputs": [],
   "source": []
  }
 ],
 "metadata": {
  "kernelspec": {
   "display_name": "base",
   "language": "python",
   "name": "python3"
  },
  "language_info": {
   "codemirror_mode": {
    "name": "ipython",
    "version": 3
   },
   "file_extension": ".py",
   "mimetype": "text/x-python",
   "name": "python",
   "nbconvert_exporter": "python",
   "pygments_lexer": "ipython3",
   "version": "3.12.7"
  }
 },
 "nbformat": 4,
 "nbformat_minor": 5
}
