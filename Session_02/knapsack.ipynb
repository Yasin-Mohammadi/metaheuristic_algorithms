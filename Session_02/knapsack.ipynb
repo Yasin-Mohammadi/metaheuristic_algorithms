{
 "cells": [
  {
   "cell_type": "code",
   "execution_count": 3,
   "id": "305629fd-2be5-43f3-924c-6b808836f30a",
   "metadata": {},
   "outputs": [],
   "source": [
    "import random\n",
    "\n",
    "# Problem definition\n",
    "items = [\n",
    "    {'weight': 10, 'value': 60},\n",
    "    {'weight': 20, 'value': 100},\n",
    "    {'weight': 30, 'value': 120},\n",
    "    {'weight': 5, 'value': 20},\n",
    "    {'weight': 15, 'value': 50}\n",
    "]"
   ]
  },
  {
   "cell_type": "code",
   "execution_count": 2,
   "id": "712737c1-d50f-45a8-a35d-ea53c0b52fa5",
   "metadata": {},
   "outputs": [],
   "source": [
    "capacity = 50\n",
    "population_size = 20\n",
    "\n",
    "def fitness(individual):\n",
    "    total_weight = 0\n",
    "    total_value = 0\n",
    "    for i, gene in enumerate(individual):\n",
    "        if gene == 1:\n",
    "            total_weight += items[i]['weight']\n",
    "            total_value += items[i]['value']\n",
    "    if total_weight > capacity:\n",
    "        return 0\n",
    "    return total_value"
   ]
  },
  {
   "cell_type": "code",
   "execution_count": 26,
   "id": "a59fb825-19cb-4320-9a18-0dabbb0a9101",
   "metadata": {},
   "outputs": [
    {
     "data": {
      "text/plain": [
       "210"
      ]
     },
     "execution_count": 26,
     "metadata": {},
     "output_type": "execute_result"
    }
   ],
   "source": [
    "ans1 = [1, 1, 0, 0, 1]\n",
    "fitness(ans1)"
   ]
  },
  {
   "cell_type": "code",
   "execution_count": 7,
   "id": "4a6f1e75-61e5-4e93-b439-e689a23cef7e",
   "metadata": {},
   "outputs": [],
   "source": [
    "def generate_individual():\n",
    "    return [random.choice([0, 1]) for _ in range(len(items))]"
   ]
  },
  {
   "cell_type": "code",
   "execution_count": 12,
   "id": "1ef5e133-a968-4416-bd58-7c2afe454b48",
   "metadata": {},
   "outputs": [
    {
     "data": {
      "text/plain": [
       "[1, 0, 1, 0, 0]"
      ]
     },
     "execution_count": 12,
     "metadata": {},
     "output_type": "execute_result"
    }
   ],
   "source": [
    "generate_individual()"
   ]
  },
  {
   "cell_type": "code",
   "execution_count": 13,
   "id": "d7272fa0-56f3-4016-bb78-d27c818da26d",
   "metadata": {},
   "outputs": [],
   "source": [
    "def selection(population):\n",
    "    fitness_values = [fitness(ind) for ind in population]\n",
    "    total_fitness = sum(fitness_values)\n",
    "    probabilities = [f/total_fitness for f in fitness_values]\n",
    "    parent1 = random.choices(population, probabilities)[0]\n",
    "    parent2 = random.choices(population, probabilities)[0]\n",
    "    return parent1, parent2"
   ]
  },
  {
   "cell_type": "code",
   "execution_count": 14,
   "id": "740e97c6-cc71-44c1-8ace-eeb4d1776371",
   "metadata": {},
   "outputs": [],
   "source": [
    "def crossover(parent1, parent2):\n",
    "    point = random.randint(1, len(items)-1)\n",
    "    offspring1 = parent1[:point] + parent2[point:]\n",
    "    offspring2 = parent2[:point] + parent1[point:]\n",
    "    return offspring1, offspring2"
   ]
  },
  {
   "cell_type": "code",
   "execution_count": 15,
   "id": "80b08374-5fa6-4d5b-b1a5-30bd46f5809f",
   "metadata": {},
   "outputs": [
    {
     "data": {
      "text/plain": [
       "([1, 1, 1, 1, 0], [0, 0, 0, 0, 0])"
      ]
     },
     "execution_count": 15,
     "metadata": {},
     "output_type": "execute_result"
    }
   ],
   "source": [
    "crossover([1, 1, 0, 0, 0], [0, 0, 1, 1, 0])"
   ]
  },
  {
   "cell_type": "code",
   "execution_count": 16,
   "id": "1c1dd1dc-9e17-4afb-bc89-e11d9b3c0de4",
   "metadata": {},
   "outputs": [],
   "source": [
    "def mutate(individual):\n",
    "    mutation_point = random.randint(0, len(items)-1)\n",
    "    individual[mutation_point] = 1 - individual[mutation_point]\n",
    "    return individual"
   ]
  },
  {
   "cell_type": "code",
   "execution_count": 20,
   "id": "b53381a6-d340-4d7f-9e01-7f89779d3124",
   "metadata": {},
   "outputs": [
    {
     "data": {
      "text/plain": [
       "[1, 1, 1, 1, 1]"
      ]
     },
     "execution_count": 20,
     "metadata": {},
     "output_type": "execute_result"
    }
   ],
   "source": [
    "mutate([1, 1, 1, 1, 0])"
   ]
  },
  {
   "cell_type": "code",
   "execution_count": 21,
   "id": "d21bbbef-37e3-4a2d-bca8-0837326cb6b8",
   "metadata": {},
   "outputs": [],
   "source": [
    "# Genetic Algorithm\n",
    "generations = 100\n",
    "population = [generate_individual() for _ in range(population_size)]"
   ]
  },
  {
   "cell_type": "code",
   "execution_count": 22,
   "id": "a9f77332-95ff-4ae6-9e9d-02d674d232ab",
   "metadata": {},
   "outputs": [
    {
     "data": {
      "text/plain": [
       "[[0, 0, 0, 1, 1],\n",
       " [0, 1, 0, 0, 0],\n",
       " [0, 1, 1, 1, 1],\n",
       " [0, 0, 1, 1, 1],\n",
       " [0, 0, 0, 1, 1],\n",
       " [1, 1, 1, 1, 0],\n",
       " [0, 0, 1, 0, 0],\n",
       " [1, 0, 1, 1, 1],\n",
       " [1, 1, 0, 0, 1],\n",
       " [1, 1, 0, 0, 0],\n",
       " [1, 0, 0, 0, 0],\n",
       " [0, 1, 1, 1, 1],\n",
       " [0, 1, 1, 0, 0],\n",
       " [1, 1, 1, 1, 1],\n",
       " [0, 0, 1, 0, 1],\n",
       " [0, 0, 0, 1, 0],\n",
       " [0, 1, 1, 1, 0],\n",
       " [1, 0, 1, 0, 0],\n",
       " [1, 0, 0, 1, 1],\n",
       " [1, 1, 1, 0, 1]]"
      ]
     },
     "execution_count": 22,
     "metadata": {},
     "output_type": "execute_result"
    }
   ],
   "source": [
    "population"
   ]
  },
  {
   "cell_type": "code",
   "execution_count": 23,
   "id": "0cb30f11-854b-4ac2-9680-ae50dcc91e43",
   "metadata": {},
   "outputs": [],
   "source": [
    "for generation in range(generations):\n",
    "    new_population = []\n",
    "    for _ in range(population_size // 2):\n",
    "        parent1, parent2 = selection(population)\n",
    "        offspring1, offspring2 = crossover(parent1, parent2)\n",
    "        offspring1 = mutate(offspring1)\n",
    "        offspring2 = mutate(offspring2)\n",
    "        new_population.extend([offspring1, offspring2])\n",
    "    population = new_population"
   ]
  },
  {
   "cell_type": "code",
   "execution_count": 24,
   "id": "26c97ea7-1e9c-4749-b168-da65392b5f9b",
   "metadata": {},
   "outputs": [
    {
     "name": "stdout",
     "output_type": "stream",
     "text": [
      "Best solution: [1, 1, 0, 1, 1]\n",
      "Total value: 230, Total weight: 50\n"
     ]
    }
   ],
   "source": [
    "best_solution = max(population, key=fitness)\n",
    "best_value = fitness(best_solution)\n",
    "best_weight = sum(items[i]['weight'] for i in range(len(best_solution)) if best_solution[i] == 1)\n",
    "\n",
    "print(f'Best solution: {best_solution}')\n",
    "print(f'Total value: {best_value}, Total weight: {best_weight}')"
   ]
  },
  {
   "cell_type": "code",
   "execution_count": null,
   "id": "28ef5cc7-5e60-42b1-b635-25932fad5ec0",
   "metadata": {},
   "outputs": [],
   "source": []
  }
 ],
 "metadata": {
  "kernelspec": {
   "display_name": "Python 3 (ipykernel)",
   "language": "python",
   "name": "python3"
  },
  "language_info": {
   "codemirror_mode": {
    "name": "ipython",
    "version": 3
   },
   "file_extension": ".py",
   "mimetype": "text/x-python",
   "name": "python",
   "nbconvert_exporter": "python",
   "pygments_lexer": "ipython3",
   "version": "3.12.0"
  }
 },
 "nbformat": 4,
 "nbformat_minor": 5
}
