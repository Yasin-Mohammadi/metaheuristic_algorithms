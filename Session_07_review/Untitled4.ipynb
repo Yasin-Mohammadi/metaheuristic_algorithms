{
 "cells": [
  {
   "cell_type": "code",
   "execution_count": 7,
   "id": "c1dbfdf1-9da8-483a-852a-5b3d6673e42e",
   "metadata": {},
   "outputs": [],
   "source": [
    "a = \"Hello world\""
   ]
  },
  {
   "cell_type": "code",
   "execution_count": 8,
   "id": "fb938cee-83d9-4007-a68d-01a4a35f4961",
   "metadata": {},
   "outputs": [
    {
     "data": {
      "text/plain": [
       "str"
      ]
     },
     "execution_count": 8,
     "metadata": {},
     "output_type": "execute_result"
    }
   ],
   "source": [
    "type(a)"
   ]
  },
  {
   "cell_type": "code",
   "execution_count": 29,
   "id": "32fc8be1-6ff8-466f-b909-4b28b0d3d831",
   "metadata": {},
   "outputs": [],
   "source": [
    "class Student:\n",
    "    def info(self):\n",
    "        print(\"Student {} age is {}\".format(self.name,self.age))\n",
    "    def __init__(self, nameArg, ageArg):\n",
    "        self.name = nameArg\n",
    "        self.age = ageArg"
   ]
  },
  {
   "cell_type": "code",
   "execution_count": 30,
   "id": "cc4def4d-960c-49c1-84b6-b768bcdd2a1d",
   "metadata": {},
   "outputs": [],
   "source": [
    "b = Student('ali', 42)\n"
   ]
  },
  {
   "cell_type": "code",
   "execution_count": 24,
   "id": "d5aad15f-8103-47d5-b31f-fdb019ae9f54",
   "metadata": {},
   "outputs": [
    {
     "data": {
      "text/plain": [
       "__main__.Student"
      ]
     },
     "execution_count": 24,
     "metadata": {},
     "output_type": "execute_result"
    }
   ],
   "source": [
    "type(b)"
   ]
  },
  {
   "cell_type": "code",
   "execution_count": 25,
   "id": "eac76ac6-df67-4766-8bd8-bfc0c028a825",
   "metadata": {},
   "outputs": [
    {
     "name": "stdout",
     "output_type": "stream",
     "text": [
      "Hi 23\n"
     ]
    }
   ],
   "source": [
    "b.sayHello(23)"
   ]
  },
  {
   "cell_type": "code",
   "execution_count": 31,
   "id": "18340b35-c55f-4203-a4a7-9f321d167f81",
   "metadata": {},
   "outputs": [
    {
     "name": "stdout",
     "output_type": "stream",
     "text": [
      "Student ali age is 42\n"
     ]
    }
   ],
   "source": [
    "b.info()"
   ]
  },
  {
   "cell_type": "code",
   "execution_count": null,
   "id": "0f2dc1d1-cc3c-4909-80ee-4863210c5f66",
   "metadata": {},
   "outputs": [],
   "source": []
  }
 ],
 "metadata": {
  "kernelspec": {
   "display_name": "Python 3 (ipykernel)",
   "language": "python",
   "name": "python3"
  },
  "language_info": {
   "codemirror_mode": {
    "name": "ipython",
    "version": 3
   },
   "file_extension": ".py",
   "mimetype": "text/x-python",
   "name": "python",
   "nbconvert_exporter": "python",
   "pygments_lexer": "ipython3",
   "version": "3.12.0"
  }
 },
 "nbformat": 4,
 "nbformat_minor": 5
}
