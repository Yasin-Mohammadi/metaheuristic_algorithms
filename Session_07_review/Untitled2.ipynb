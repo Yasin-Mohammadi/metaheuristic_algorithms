{
 "cells": [
  {
   "cell_type": "code",
   "execution_count": 1,
   "id": "3798b017-2fd9-4b2b-b199-9e1ad2568bf8",
   "metadata": {},
   "outputs": [],
   "source": [
    "import numpy as np\n",
    "import random\n",
    "import matplotlib.pyplot as plt\n",
    "\n",
    "# Step 1: Define Cities (x, y coordinates)\n",
    "cities = {\n",
    "    0: (0, 0),\n",
    "    1: (1, 5),\n",
    "    2: (5, 2),\n",
    "    3: (6, 6),\n",
    "    4: (8, 3),\n",
    "    5: (7, 0)\n",
    "}\n",
    "N = len(cities)\n",
    "\n",
    "# Step 2: Distance Matrix\n",
    "def euclidean(p1, p2):\n",
    "    return np.linalg.norm(np.array(p1) - np.array(p2))\n",
    "\n",
    "distance_matrix = np.zeros((N, N))\n",
    "for i in range(N):\n",
    "    for j in range(N):\n",
    "        if i != j:\n",
    "            distance_matrix[i][j] = euclidean(cities[i], cities[j])"
   ]
  },
  {
   "cell_type": "code",
   "execution_count": 2,
   "id": "ef67479b-0ac7-4f76-b547-d68122df759b",
   "metadata": {},
   "outputs": [],
   "source": [
    "# Step 3: ACO Parameters\n",
    "NUM_ANTS = 50\n",
    "NUM_ITERATIONS = 200\n",
    "ALPHA = 1         # pheromone importance\n",
    "BETA = 5          # heuristic importance\n",
    "EVAPORATION = 0.5\n",
    "Q = 100           # pheromone deposit factor"
   ]
  },
  {
   "cell_type": "code",
   "execution_count": 3,
   "id": "7bedb894-8c32-4c2e-b667-13befada403b",
   "metadata": {},
   "outputs": [],
   "source": [
    "# Initialize pheromone matrix\n",
    "pheromone = np.ones((N, N))"
   ]
  },
  {
   "cell_type": "code",
   "execution_count": 4,
   "id": "58e0d90a-6083-4b76-8f15-e77ba99fc1f3",
   "metadata": {},
   "outputs": [
    {
     "data": {
      "text/plain": [
       "array([[1., 1., 1., 1., 1., 1.],\n",
       "       [1., 1., 1., 1., 1., 1.],\n",
       "       [1., 1., 1., 1., 1., 1.],\n",
       "       [1., 1., 1., 1., 1., 1.],\n",
       "       [1., 1., 1., 1., 1., 1.],\n",
       "       [1., 1., 1., 1., 1., 1.]])"
      ]
     },
     "execution_count": 4,
     "metadata": {},
     "output_type": "execute_result"
    }
   ],
   "source": [
    "pheromone"
   ]
  },
  {
   "cell_type": "code",
   "execution_count": 5,
   "id": "3171d6d6-6112-4ea7-a09a-a04624dbe06e",
   "metadata": {},
   "outputs": [],
   "source": [
    "# Heuristic information (inverse of distance)\n",
    "heuristic = 1 / (distance_matrix + np.diag([1e10] * N))  # avoid division by zero"
   ]
  },
  {
   "cell_type": "code",
   "execution_count": 6,
   "id": "f6ccea6f-d24a-4b00-b66b-e854920f7829",
   "metadata": {},
   "outputs": [
    {
     "data": {
      "text/plain": [
       "array([[1.00000000e-10, 1.96116135e-01, 1.85695338e-01, 1.17851130e-01,\n",
       "        1.17041147e-01, 1.42857143e-01],\n",
       "       [1.96116135e-01, 1.00000000e-10, 2.00000000e-01, 1.96116135e-01,\n",
       "        1.37360564e-01, 1.28036880e-01],\n",
       "       [1.85695338e-01, 2.00000000e-01, 1.00000000e-10, 2.42535625e-01,\n",
       "        3.16227766e-01, 3.53553391e-01],\n",
       "       [1.17851130e-01, 1.96116135e-01, 2.42535625e-01, 1.00000000e-10,\n",
       "        2.77350098e-01, 1.64398987e-01],\n",
       "       [1.17041147e-01, 1.37360564e-01, 3.16227766e-01, 2.77350098e-01,\n",
       "        1.00000000e-10, 3.16227766e-01],\n",
       "       [1.42857143e-01, 1.28036880e-01, 3.53553391e-01, 1.64398987e-01,\n",
       "        3.16227766e-01, 1.00000000e-10]])"
      ]
     },
     "execution_count": 6,
     "metadata": {},
     "output_type": "execute_result"
    }
   ],
   "source": [
    "heuristic"
   ]
  },
  {
   "cell_type": "code",
   "execution_count": 7,
   "id": "37f45c9c-2a2d-464e-8c66-beb1219df026",
   "metadata": {},
   "outputs": [],
   "source": [
    "# Step 4: Route distance function\n",
    "def route_distance(route):\n",
    "    return sum(distance_matrix[route[i]][route[i+1]] for i in range(N-1)) + distance_matrix[route[-1]][route[0]]"
   ]
  },
  {
   "cell_type": "code",
   "execution_count": 8,
   "id": "1ab1a9df-5817-4924-831d-9911f8ef2f44",
   "metadata": {},
   "outputs": [],
   "source": [
    "# Step 5: Construct a route for an ant\n",
    "def construct_route(start_node):\n",
    "    unvisited = list(range(N))\n",
    "    unvisited.remove(start_node)\n",
    "    route = [start_node]\n",
    "    current = start_node\n",
    "\n",
    "    while unvisited:\n",
    "        probabilities = []\n",
    "        for j in unvisited:\n",
    "            tau = pheromone[current][j] ** ALPHA\n",
    "            eta = heuristic[current][j] ** BETA\n",
    "            probabilities.append(tau * eta)\n",
    "        probabilities = probabilities / np.sum(probabilities)\n",
    "        next_node = random.choices(unvisited, weights=probabilities)[0]\n",
    "        route.append(next_node)\n",
    "        unvisited.remove(next_node)\n",
    "        current = next_node\n",
    "\n",
    "    return route"
   ]
  },
  {
   "cell_type": "code",
   "execution_count": 9,
   "id": "130dbb7a-f57b-4686-9c1d-dc44ad9a6073",
   "metadata": {},
   "outputs": [
    {
     "name": "stdout",
     "output_type": "stream",
     "text": [
      "Best route found: [1, 0, 2, 5, 4, 3]\n",
      "Minimum distance: 25.17945989469863\n"
     ]
    }
   ],
   "source": [
    "# Step 6: ACO main loop\n",
    "best_route = None\n",
    "best_cost = float('inf')\n",
    "cost_history = []\n",
    "\n",
    "for iteration in range(NUM_ITERATIONS):\n",
    "    all_routes = []\n",
    "    all_costs = []\n",
    "\n",
    "    for _ in range(NUM_ANTS):\n",
    "        start = random.randint(0, N - 1)\n",
    "        route = construct_route(start)\n",
    "        cost = route_distance(route)\n",
    "        all_routes.append(route)\n",
    "        all_costs.append(cost)\n",
    "\n",
    "        if cost < best_cost:\n",
    "            best_cost = cost\n",
    "            best_route = route\n",
    "\n",
    "    # Pheromone evaporation\n",
    "    pheromone *= (1 - EVAPORATION)\n",
    "\n",
    "    # Pheromone deposit\n",
    "    for route, cost in zip(all_routes, all_costs):\n",
    "        for i in range(N):\n",
    "            from_city = route[i]\n",
    "            to_city = route[(i + 1) % N]\n",
    "            pheromone[from_city][to_city] += Q / cost\n",
    "            pheromone[to_city][from_city] += Q / cost\n",
    "\n",
    "    cost_history.append(best_cost)\n",
    "\n",
    "# Step 7: Output\n",
    "print(\"Best route found:\", best_route)\n",
    "print(\"Minimum distance:\", best_cost)"
   ]
  },
  {
   "cell_type": "code",
   "execution_count": 10,
   "id": "daa6642c-572d-4008-8089-7af19cc3545d",
   "metadata": {},
   "outputs": [
    {
     "data": {
      "image/png": "[encoded data removed]",
      "text/plain": [
       "<Figure size 800x600 with 1 Axes>"
      ]
     },
     "metadata": {},
     "output_type": "display_data"
    }
   ],
   "source": [
    "# Visualize best route\n",
    "def plot_route(route):\n",
    "    x = [cities[i][0] for i in route] + [cities[route[0]][0]]\n",
    "    y = [cities[i][1] for i in route] + [cities[route[0]][1]]\n",
    "    plt.figure(figsize=(8, 6))\n",
    "    plt.plot(x, y, 'o-', color='purple')\n",
    "    for i, city in enumerate(route):\n",
    "        plt.text(cities[city][0], cities[city][1], str(city), fontsize=12, color='red')\n",
    "    plt.title(\"Best Route (ACO)\")\n",
    "    plt.grid()\n",
    "    plt.show()\n",
    "\n",
    "plot_route(best_route)"
   ]
  },
  {
   "cell_type": "code",
   "execution_count": null,
   "id": "9d002b80-e225-4397-89b2-71fd9d2ba1ab",
   "metadata": {},
   "outputs": [],
   "source": []
  }
 ],
 "metadata": {
  "kernelspec": {
   "display_name": "Python 3 (ipykernel)",
   "language": "python",
   "name": "python3"
  },
  "language_info": {
   "codemirror_mode": {
    "name": "ipython",
    "version": 3
   },
   "file_extension": ".py",
   "mimetype": "text/x-python",
   "name": "python",
   "nbconvert_exporter": "python",
   "pygments_lexer": "ipython3",
   "version": "3.12.0"
  }
 },
 "nbformat": 4,
 "nbformat_minor": 5
}
